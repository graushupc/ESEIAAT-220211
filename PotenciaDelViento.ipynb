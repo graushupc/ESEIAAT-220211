{
 "cells": [
  {
   "cell_type": "markdown",
   "metadata": {
    "slideshow": {
     "slide_type": "slide"
    }
   },
   "source": [
    "### Potencia del Viento\n",
    "\n",
    "_G. Raush_\n",
    "\n",
    "_May 07, 2019_\n"
   ]
  },
  {
   "cell_type": "markdown",
   "metadata": {
    "slideshow": {
     "slide_type": "slide"
    }
   },
   "source": [
    "#### La Energía Cinética\n",
    "\n",
    "Enfoque desde la Energía Mecánica\n",
    "\n",
    "$$E_k = \\frac{1}{2} m U^2$$\n",
    "\n",
    "$$E_k = \\frac{1}{2} \\left(\\rho A x  \\right) U^2$$\n",
    "\n",
    "$$Pow = \\frac{d E_k}{dt}$$\n",
    "\n",
    "$$Pow = \\frac{1}{2} \\rho A U^3 \\tag{1}$$"
   ]
  },
  {
   "cell_type": "markdown",
   "metadata": {
    "slideshow": {
     "slide_type": "slide"
    }
   },
   "source": [
    "#### La Presión Dinámica\n",
    "\n",
    "$$p_d = \\frac{1}{2} \\rho U^2$$\n",
    "\n",
    "$$F = p_d A$$\n",
    "\n",
    "$$Pow = F U$$\n",
    "\n",
    "$$Pow = \\frac{1}{2} \\rho A U^3$$"
   ]
  },
  {
   "cell_type": "markdown",
   "metadata": {
    "slideshow": {
     "slide_type": "slide"
    }
   },
   "source": [
    "#### Densidad del Aire\n",
    "\n",
    "Ecuación de Estado de los Gases Ideales\n",
    "\n",
    "$$\\rho = \\frac{P_{atm}}{R_{air} T} \\tag{2}$$"
   ]
  },
  {
   "cell_type": "code",
   "execution_count": 2,
   "metadata": {
    "slideshow": {
     "slide_type": "subslide"
    }
   },
   "outputs": [
    {
     "name": "stdout",
     "output_type": "stream",
     "text": [
      "1.2249233818284493  kg/m3\n"
     ]
    }
   ],
   "source": [
    "Rair = 287 # J/kg·K\n",
    "Tamb = 273.15 + 15 # K\n",
    "Patm = 101300 # Pa\n",
    "rhoSCSL = Patm/Rair/Tamb\n",
    "print(rhoSCSL,' kg/m3')"
   ]
  },
  {
   "cell_type": "markdown",
   "metadata": {
    "slideshow": {
     "slide_type": "subslide"
    }
   },
   "source": [
    "__Observaciones__: Se adopta el estandard de 1.225 $kg/m^3$"
   ]
  },
  {
   "cell_type": "code",
   "execution_count": 4,
   "metadata": {
    "slideshow": {
     "slide_type": "slide"
    }
   },
   "outputs": [
    {
     "data": {
      "text/plain": [
       "1.7421602787456445"
      ]
     },
     "execution_count": 4,
     "metadata": {},
     "output_type": "execute_result"
    }
   ],
   "source": [
    "1/Rair*1000./2."
   ]
  },
  {
   "cell_type": "markdown",
   "metadata": {
    "slideshow": {
     "slide_type": "subslide"
    }
   },
   "source": [
    "Combinando (1) y (2) , la potencia del viento puede quedar representada \n",
    "$$Pow = 1.742 \\frac{A P_{atm} U^3}{T_{amb}}$$"
   ]
  },
  {
   "cell_type": "markdown",
   "metadata": {
    "slideshow": {
     "slide_type": "slide"
    }
   },
   "source": [
    "#### Ejemplo de la Magnitud de la Potencia del Viento"
   ]
  },
  {
   "cell_type": "code",
   "execution_count": 25,
   "metadata": {},
   "outputs": [],
   "source": [
    "import matplotlib.pyplot as plt\n",
    "import numpy as np\n",
    "\n",
    "U = np.linspace(0,80,50)\n",
    "Patm = 100 # kPa\n",
    "Tamb = 300 # K\n",
    "A = 1 # m2\n",
    "powFunc = lambda u : (1.742*A*Patm/Tamb*u**3)*1e-3 # kW\n",
    "Pow = [powFunc(x) for x in U]"
   ]
  },
  {
   "cell_type": "code",
   "execution_count": 26,
   "metadata": {
    "slideshow": {
     "slide_type": "slide"
    }
   },
   "outputs": [
    {
     "data": {
      "image/png": "[encoded data removed]",
      "text/plain": [
       "<Figure size 432x288 with 1 Axes>"
      ]
     },
     "metadata": {
      "needs_background": "light"
     },
     "output_type": "display_data"
    }
   ],
   "source": [
    "plt.plot(U,Pow)\n",
    "plt.xlabel('U [m/s]')\n",
    "plt.ylabel('P [kW/m2]')\n",
    "plt.grid()\n",
    "plt.show()"
   ]
  },
  {
   "cell_type": "markdown",
   "metadata": {},
   "source": [
    "La curva muestra la evolución de la potencia del viento con respecto a su velocidad"
   ]
  },
  {
   "cell_type": "code",
   "execution_count": 27,
   "metadata": {},
   "outputs": [],
   "source": [
    "PowMaxWT = [powFunc(25) for x in U]"
   ]
  },
  {
   "cell_type": "code",
   "execution_count": 28,
   "metadata": {
    "slideshow": {
     "slide_type": "slide"
    }
   },
   "outputs": [
    {
     "data": {
      "image/png": "[encoded data removed]",
      "text/plain": [
       "<Figure size 432x288 with 1 Axes>"
      ]
     },
     "metadata": {
      "needs_background": "light"
     },
     "output_type": "display_data"
    }
   ],
   "source": [
    "plt.plot(U,Pow,'b')\n",
    "plt.plot(U,PowMaxWT,'r--')\n",
    "plt.xlabel('U [m/s]')\n",
    "plt.ylabel('P [kW/m2]')\n",
    "plt.grid()\n",
    "plt.show()"
   ]
  },
  {
   "cell_type": "markdown",
   "metadata": {
    "slideshow": {
     "slide_type": "-"
    }
   },
   "source": [
    "La línea punteada muestra el límite de la potencia manejable por las máquinas actuales."
   ]
  },
  {
   "cell_type": "code",
   "execution_count": null,
   "metadata": {
    "slideshow": {
     "slide_type": "skip"
    }
   },
   "outputs": [],
   "source": []
  }
 ],
 "metadata": {
  "celltoolbar": "Slideshow",
  "kernelspec": {
   "display_name": "Python 3",
   "language": "python",
   "name": "python3"
  },
  "language_info": {
   "codemirror_mode": {
    "name": "ipython",
    "version": 3
   },
   "file_extension": ".py",
   "mimetype": "text/x-python",
   "name": "python",
   "nbconvert_exporter": "python",
   "pygments_lexer": "ipython3",
   "version": "3.7.1"
  }
 },
 "nbformat": 4,
 "nbformat_minor": 2
}
